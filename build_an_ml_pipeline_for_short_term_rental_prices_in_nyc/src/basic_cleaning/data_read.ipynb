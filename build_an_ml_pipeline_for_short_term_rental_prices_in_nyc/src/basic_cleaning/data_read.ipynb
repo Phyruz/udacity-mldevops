{
 "cells": [
  {
   "cell_type": "code",
   "execution_count": 2,
   "metadata": {},
   "outputs": [],
   "source": [
    "import pandas as pd"
   ]
  },
  {
   "cell_type": "code",
   "execution_count": 3,
   "metadata": {},
   "outputs": [],
   "source": [
    "df = pd.read_csv(\"clean_sample.csv\")"
   ]
  },
  {
   "cell_type": "code",
   "execution_count": 5,
   "metadata": {},
   "outputs": [
    {
     "name": "stdout",
     "output_type": "stream",
     "text": [
      "<class 'pandas.core.frame.DataFrame'>\n",
      "RangeIndex: 18995 entries, 0 to 18994\n",
      "Data columns (total 16 columns):\n",
      " #   Column                          Non-Null Count  Dtype  \n",
      "---  ------                          --------------  -----  \n",
      " 0   id                              18995 non-null  int64  \n",
      " 1   name                            18988 non-null  object \n",
      " 2   host_id                         18995 non-null  int64  \n",
      " 3   host_name                       18987 non-null  object \n",
      " 4   neighbourhood_group             18995 non-null  object \n",
      " 5   neighbourhood                   18995 non-null  object \n",
      " 6   latitude                        18995 non-null  float64\n",
      " 7   longitude                       18995 non-null  float64\n",
      " 8   room_type                       18995 non-null  object \n",
      " 9   price                           18995 non-null  int64  \n",
      " 10  minimum_nights                  18995 non-null  int64  \n",
      " 11  number_of_reviews               18995 non-null  int64  \n",
      " 12  last_review                     15240 non-null  object \n",
      " 13  reviews_per_month               15240 non-null  float64\n",
      " 14  calculated_host_listings_count  18995 non-null  int64  \n",
      " 15  availability_365                18995 non-null  int64  \n",
      "dtypes: float64(3), int64(7), object(6)\n",
      "memory usage: 2.3+ MB\n"
     ]
    }
   ],
   "source": [
    "df.info()"
   ]
  },
  {
   "cell_type": "code",
   "execution_count": 6,
   "metadata": {},
   "outputs": [
    {
     "data": {
      "text/plain": [
       "0        2019-05-26\n",
       "1               NaN\n",
       "2        2018-09-19\n",
       "3        2019-05-24\n",
       "4        2019-06-23\n",
       "            ...    \n",
       "18990    2016-08-27\n",
       "18991    2019-05-21\n",
       "18992    2019-05-23\n",
       "18993    2019-07-01\n",
       "18994    2019-04-28\n",
       "Name: last_review, Length: 18995, dtype: object"
      ]
     },
     "execution_count": 6,
     "metadata": {},
     "output_type": "execute_result"
    }
   ],
   "source": [
    "df[\"last_review\"]"
   ]
  },
  {
   "cell_type": "code",
   "execution_count": null,
   "metadata": {},
   "outputs": [],
   "source": []
  }
 ],
 "metadata": {
  "interpreter": {
   "hash": "aee8b7b246df8f9039afb4144a1f6fd8d2ca17a180786b69acc140d282b71a49"
  },
  "kernelspec": {
   "display_name": "Python 3.9.1 64-bit",
   "language": "python",
   "name": "python3"
  },
  "language_info": {
   "codemirror_mode": {
    "name": "ipython",
    "version": 3
   },
   "file_extension": ".py",
   "mimetype": "text/x-python",
   "name": "python",
   "nbconvert_exporter": "python",
   "pygments_lexer": "ipython3",
   "version": "3.9.1"
  },
  "orig_nbformat": 4
 },
 "nbformat": 4,
 "nbformat_minor": 2
}
